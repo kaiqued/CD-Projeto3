{
 "cells": [
  {
   "cell_type": "markdown",
   "metadata": {},
   "source": [
    "# Projeto 3\n",
    "## Ciência dos Dados\n",
    "### João Laet de Toledo, Kaique Dognani e Rebecca Cohen"
   ]
  },
  {
   "cell_type": "markdown",
   "metadata": {},
   "source": [
    "#### Nosso trabalho consiste em criar uma regressão que estimasse o valor do sálario de um jogador de futebol. Foi feito então um programa que prevê esse salário baseado nas qualidades de cada jogador. Para isso, criamos um Data Set com os dados do site www.sofifa.com que tem os valores criados pelo jogo de vídeo game Fifa 18, com mais de 17 mil jogadores registrados. Dentre todas as características disponíveis na base de dados, foram escolhidas para trabalhar, as escolhidas pelo grupo como mais importantes, que são: visão, posicionamento, controle de bola, dividida de pé, finalização, cabeceio, entre outras."
   ]
  },
  {
   "cell_type": "markdown",
   "metadata": {},
   "source": [
    "#### *A criação do Data Frame e a limpeza dos dados está no outro arquivo de Notebook para facilitar o manuseamentos dos dados."
   ]
  },
  {
   "cell_type": "code",
   "execution_count": 1,
   "metadata": {
    "collapsed": true
   },
   "outputs": [],
   "source": [
    "# Módulos importados para o funcionamento deste código;\n",
    "\n",
    "%matplotlib inline\n",
    "import numpy as np\n",
    "import pandas as pd\n",
    "import matplotlib.pyplot as plt\n",
    "import os\n",
    "from numpy import arange\n",
    "from sklearn.utils import shuffle\n",
    "from sklearn.model_selection import train_test_split\n",
    "from sklearn.metrics import mean_squared_error, mean_absolute_error\n",
    "from sklearn.linear_model import Ridge, Lasso\n",
    "from sklearn.model_selection import GridSearchCV\n",
    "from sklearn.linear_model import ElasticNet as ElasticNetImpl"
   ]
  },
  {
   "cell_type": "code",
   "execution_count": 2,
   "metadata": {
    "collapsed": true
   },
   "outputs": [],
   "source": [
    "# Linha que importa o arquivo que contém o dataset;\n",
    "\n",
    "dados = pd.read_csv('Dataset_Final.csv')"
   ]
  },
  {
   "cell_type": "markdown",
   "metadata": {},
   "source": [
    "#### Como queríamos um dataset aleatório, usamos a função Shuffle para misturar todos os jogadores."
   ]
  },
  {
   "cell_type": "code",
   "execution_count": 3,
   "metadata": {
    "collapsed": true
   },
   "outputs": [],
   "source": [
    "# Código para embaralhar as linhas do dataset;\n",
    "\n",
    "dados = shuffle(dados)"
   ]
  },
  {
   "cell_type": "markdown",
   "metadata": {},
   "source": [
    "#### Escolhemos as seguintes características de cada jogador, pois foram as que julgamos mais importantes para avaliá-los: idade, qualidade, potencial, preço, especialidades, drible, finalização, marcação, visão de jogo, interceptação, cruzamento, bote, posicionamento e cabeceio. Todas essas características possuiam valor quantitativo, que importamos diretamente do site www.sofifa.com."
   ]
  },
  {
   "cell_type": "code",
   "execution_count": 4,
   "metadata": {
    "collapsed": true
   },
   "outputs": [],
   "source": [
    "# Colunas com os dados que serão analisados pelas regressões;\n",
    "\n",
    "atributos = [\"Idade\", \"Qualidade\", \"Potencial\",\"Preço\", \"Especial\", \"Drible\", \"Finalização\", \"Marcação\", \"Visão\", \"Interceptação\"\n",
    "             , \"Cruzamento\", \"Bote\", \"Posicionamento\", \"Cabeceio\"]\n",
    "y = [\"Salário\"]"
   ]
  },
  {
   "cell_type": "markdown",
   "metadata": {},
   "source": [
    "#### Limpamos e separamos o dataset em 80% para treinamento e 20% para teste, chamando de train e test, respectivamente."
   ]
  },
  {
   "cell_type": "code",
   "execution_count": 5,
   "metadata": {
    "collapsed": true
   },
   "outputs": [],
   "source": [
    "# Limpar o dataset;\n",
    "\n",
    "for i in atributos:\n",
    "    dados = dados[dados[i] != 0] \n",
    "dados = dados.dropna()\n",
    "\n",
    "\n",
    "# Separa o dataset, 80% para treinamento e 20% para teste;\n",
    "\n",
    "train, test = train_test_split(dados, test_size=0.2)\n"
   ]
  },
  {
   "cell_type": "markdown",
   "metadata": {},
   "source": [
    "#### Uma regressão linear é uma equação para se estimar a condicional (um valor esperado) de uma variável Y, dados os valores de algumas outras variáveis X. O nosso modelo, por possuir muitas variáveis X diferentes, era bastante complexo e difícil de visualizar em um único gráfico de regressão simples, por exemplo. Por isso, buscamos outros modelos de regressões lineares que pudessem se encaixar no nosso problema, o Ridge e o Lasso. \n",
    "\n",
    "#### Esses modelos, procuram determinar funções que se adequem aos pontos da variável Y em função das distintas variáveis X. Para isso, o modelo calcula diferentes parâmetros de \"importância\" de cada variável. Por exemplo, após observar cerca de 14000 jogadores (aproximadamente 80% do nosso dataset) pode ser percebido que a variável posicionamento não era tão importante assim, mas que a marcação do jogador \"contava\" mais. Ou que o potencial do jogador vale mais que o cabeceio. Assim, o modelo determinou diferentes parâmetros para cada variável. Com esses valores era possível determinar uma função. \n",
    "\n",
    "#### Além desses diferentes parâmetros, as regressões Ridge e Lasso possuem também um método de \"penalização/minimização\" de erros. Para isso, ela usa um hiperparâmetro, chamado aqui de alpha. A penalização da Ridge consiste na multiplicação do alpha pela soma dos quadrados dos parâmetros. Enquanto a da Lasso consiste no alpha vezes a soma dos números absolutos dos parâmetros. Essa minimização de erros serve para determinar o quanto a função se encaixa aos pontos. Quanto maior o alpha, maior a precisão dos pontos. Porém, essa precisão não é tão eficiente, pois ao trocar do modelo de treinamento para o de teste, a função é tão precisa ao treinamento, que pode ser que não se adeque tanto ao de teste. Logo, devemos escolher/testar diferentes alphas para entender qual é o melhor para o nosso problema. \n"
   ]
  },
  {
   "cell_type": "markdown",
   "metadata": {},
   "source": [
    "#### Para resolver o problema proposto e conseguir estimar o salário de um jogador baseado em suas características, testamos os dois tipos de regressão citados acima; Ridge e Lasso. Abaixo comparamos os resultados:"
   ]
  },
  {
   "cell_type": "code",
   "execution_count": 6,
   "metadata": {
    "collapsed": true
   },
   "outputs": [],
   "source": [
    "# Função que realiza a regressão Ridge;\n",
    "\n",
    "def ridge_regression(train, atributos, alpha):\n",
    "    ridgereg = Ridge(alpha=alpha,normalize=True)\n",
    "    ridgereg.fit(train[atributos],train['Salário'])\n",
    "    y_pred = ridgereg.predict(train[atributos])\n",
    "    return(y_pred)"
   ]
  },
  {
   "cell_type": "markdown",
   "metadata": {},
   "source": [
    "#### Aqui comparamos os resultados da \"predição\" do salário com o salário verdadeiro do jogador, através do método de \"Mean Squared Error\" ou a raíz da média do erro ao quadrado. Testamos com diferentes alphas para descobrir qual deles retornava o menor erro. Observamos que quando o alpha já era suficientemente pequeno (0,0001/1e-10/1e-15), o erro se estabilizou em 16076,53 (Euros)."
   ]
  },
  {
   "cell_type": "code",
   "execution_count": 7,
   "metadata": {},
   "outputs": [
    {
     "name": "stdout",
     "output_type": "stream",
     "text": [
      "20312.7516069\n",
      "19230.1546377\n",
      "17762.1293466\n",
      "16916.96712\n",
      "16078.3143863\n",
      "16076.561567\n",
      "16076.5352438\n",
      "16076.5349649\n",
      "16076.5349649\n"
     ]
    }
   ],
   "source": [
    "# Estudo para escolher o melhor alpha para a regressão;\n",
    "\n",
    "alphas = [10, 5, 2, 1, 0.01, 0.001, 0.0001, 1e-10, 1e-15]\n",
    "\n",
    "for valor in alphas:\n",
    "    Regressão_Ridge = ridge_regression(train, atributos, valor)\n",
    "    print((mean_squared_error(train['Salário'],Regressão_Ridge))**(1/2))"
   ]
  },
  {
   "cell_type": "markdown",
   "metadata": {},
   "source": [
    "#### Usamos o alpha que estabilizava o erro para criar um gráfico de salário estimado (Y do gráfico) por salário real (X do gráfico). Se os valores fossem exatamente os mesmos (predição 100% correta) o gráfico deveria plotar os pontos em uma linha de 45 graus, onde o valor de X fosse o mesmo de Y em todos os pontos. Observando o gráfico abaixo, podemos perceber que isso não ocorre, justificando assim o erro grande observado acima."
   ]
  },
  {
   "cell_type": "code",
   "execution_count": 38,
   "metadata": {},
   "outputs": [
    {
     "data": {
      "image/png": "[encoded data removed]",
      "text/plain": [
       "<matplotlib.figure.Figure at 0x11fc38400>"
      ]
     },
     "metadata": {},
     "output_type": "display_data"
    }
   ],
   "source": [
    "# Uso do melhor alpha para fazer o gráfico;\n",
    "\n",
    "R_R = ridge_regression(train, atributos, 0.001)\n",
    "\n",
    "plt.plot(train['Salário'],R_R,'.', color=\"red\")\n",
    "plt.axis([0, 200000, 0, 200000])\n",
    "plt.title(\"Regressão Ridge\")\n",
    "plt.xlabel(\"Salário Real\")\n",
    "plt.ylabel(\"Salário Estimado\")\n",
    "plt.show()"
   ]
  },
  {
   "cell_type": "markdown",
   "metadata": {},
   "source": [
    "#### Mesmo método utilizado na Ridge acima, agora foi utilizado na Lasso abaixo."
   ]
  },
  {
   "cell_type": "code",
   "execution_count": 9,
   "metadata": {
    "collapsed": true
   },
   "outputs": [],
   "source": [
    "# Função que realiza a regressão Lasso;\n",
    "\n",
    "def lasso_regression(train, atributos, alpha):\n",
    "    lassoreg = Lasso(alpha=alpha,normalize=True)\n",
    "    lassoreg.fit(train[atributos],train['Salário'])\n",
    "    y_predl = lassoreg.predict(train[atributos])\n",
    "    return(y_predl)"
   ]
  },
  {
   "cell_type": "markdown",
   "metadata": {},
   "source": [
    "#### Abaixo, diferentes alphas foram testados a fim de determinar o menor erro. Pode ser observado que para um alpha de 0,01 o erro já estabiliza, sendo 16076,53 euros."
   ]
  },
  {
   "cell_type": "code",
   "execution_count": 10,
   "metadata": {},
   "outputs": [
    {
     "name": "stdout",
     "output_type": "stream",
     "text": [
      "16168.6850495\n",
      "16121.2583499\n",
      "16103.4714816\n",
      "16099.8030473\n",
      "16076.5407904\n",
      "16076.5350233\n",
      "16076.5349655\n"
     ]
    }
   ],
   "source": [
    "# Estudo para escolher o melhor alpha para a regressão;\n",
    "\n",
    "alphas = [10, 5, 2, 1, 0.01, 0.001, 0.0001]\n",
    "\n",
    "for valor in alphas:\n",
    "    Regressão_Lasso = lasso_regression(train, atributos, valor)\n",
    "    print((mean_squared_error(train['Salário'],Regressão_Lasso))**(1/2))"
   ]
  },
  {
   "cell_type": "markdown",
   "metadata": {},
   "source": [
    "#### Abaixo, o gráfico da Lasso foi plotado da mesma maneira feita com a Ridge. Os gráficos são basicamente os mesmos e os erros mínimos observados nos dois modelos também foram praticamente os mesmos."
   ]
  },
  {
   "cell_type": "code",
   "execution_count": 39,
   "metadata": {},
   "outputs": [
    {
     "data": {
      "image/png": "[encoded data removed]",
      "text/plain": [
       "<matplotlib.figure.Figure at 0x11f97fa58>"
      ]
     },
     "metadata": {},
     "output_type": "display_data"
    }
   ],
   "source": [
    "# Uso do melhor alpha para fazer o gráfico;\n",
    "\n",
    "R_L = lasso_regression(train, atributos, 0.01)\n",
    "plt.plot(train['Salário'],R_L,'.', color=\"blue\")\n",
    "plt.axis([0, 200000, 0, 200000])\n",
    "plt.title(\"Regressão Lasso\")\n",
    "plt.xlabel(\"Salário Real\")\n",
    "plt.ylabel(\"Salário Estimado\")\n",
    "plt.show()"
   ]
  },
  {
   "cell_type": "markdown",
   "metadata": {},
   "source": [
    "#### Após testarmos as funções e os alphas com 80% do nosso dataset, vamos implementá-los no teste (os 20% restantes). Os resultados (erro e gráfico foram plotados abaixo)."
   ]
  },
  {
   "cell_type": "code",
   "execution_count": 12,
   "metadata": {},
   "outputs": [
    {
     "name": "stdout",
     "output_type": "stream",
     "text": [
      "18039.8092864\n"
     ]
    }
   ],
   "source": [
    "# Uso dos conhecimentos obtidos durante o treino para realizar o teste de regressão Ridge;\n",
    "\n",
    "alpha = 0.001\n",
    "\n",
    "r_R = ridge_regression(test, atributos, alpha)\n",
    "print((mean_squared_error(test['Salário'],r_R))**(1/2))"
   ]
  },
  {
   "cell_type": "code",
   "execution_count": 47,
   "metadata": {},
   "outputs": [
    {
     "data": {
      "image/png": "[encoded data removed]",
      "text/plain": [
       "<matplotlib.figure.Figure at 0x11fd3e358>"
      ]
     },
     "metadata": {},
     "output_type": "display_data"
    }
   ],
   "source": [
    "R_R = ridge_regression(test, atributos, 0.001)\n",
    "\n",
    "plt.plot(test['Salário'],R_R,'.', color=\"red\")\n",
    "plt.axis([0, 200000, 0, 200000])\n",
    "plt.title(\"Regressão Ridge - Teste\")\n",
    "plt.xlabel(\"Salário Real\")\n",
    "plt.ylabel(\"Salário Estimado\")\n",
    "plt.show()"
   ]
  },
  {
   "cell_type": "code",
   "execution_count": 13,
   "metadata": {},
   "outputs": [
    {
     "name": "stdout",
     "output_type": "stream",
     "text": [
      "18039.7944091\n"
     ]
    }
   ],
   "source": [
    "# Uso dos conhecimentos obtidos durante o treino para realizar o teste de regressão Lasso; \n",
    "\n",
    "alpha = 0.01\n",
    "\n",
    "r_L = lasso_regression(test, atributos, alpha)\n",
    "print((mean_squared_error(test['Salário'],r_L))**(1/2))"
   ]
  },
  {
   "cell_type": "code",
   "execution_count": 48,
   "metadata": {},
   "outputs": [
    {
     "data": {
      "image/png": "[encoded data removed]",
      "text/plain": [
       "<matplotlib.figure.Figure at 0x11c26a198>"
      ]
     },
     "metadata": {},
     "output_type": "display_data"
    }
   ],
   "source": [
    "R_L = lasso_regression(test, atributos, 0.01)\n",
    "plt.plot(test['Salário'],R_L,'.', color=\"blue\")\n",
    "plt.axis([0, 200000, 0, 200000])\n",
    "plt.title(\"Regressão Lasso - Teste\")\n",
    "plt.xlabel(\"Salário Real\")\n",
    "plt.ylabel(\"Salário Estimado\")\n",
    "plt.show()"
   ]
  },
  {
   "cell_type": "markdown",
   "metadata": {},
   "source": [
    "#### Novamente foi possível observar um erro bastante grande (maior até que o de treinamento, provavelmente por se tratar de uma base de dados menor), e uma comparação praticamente igual. Os erros foram basicamente os mesmos com as duas regressões, assim como os dois gráficos. "
   ]
  },
  {
   "cell_type": "markdown",
   "metadata": {},
   "source": [
    "#### Abaixo, foram feitas as contas de erro percentual dos dois modelos para o teste. Como o erro quadrático, foi possível observar uma porcentagem muito alta de erro nos dois modelos; 223%."
   ]
  },
  {
   "cell_type": "code",
   "execution_count": 49,
   "metadata": {},
   "outputs": [
    {
     "data": {
      "text/plain": [
       "222.89272989013347"
      ]
     },
     "execution_count": 49,
     "metadata": {},
     "output_type": "execute_result"
    }
   ],
   "source": [
    "np.sum(abs((test.Salário - R_R)/test.Salário))*(100/len(test))"
   ]
  },
  {
   "cell_type": "code",
   "execution_count": 50,
   "metadata": {},
   "outputs": [
    {
     "data": {
      "text/plain": [
       "222.90411015415117"
      ]
     },
     "execution_count": 50,
     "metadata": {},
     "output_type": "execute_result"
    }
   ],
   "source": [
    "np.sum(abs((test.Salário - R_L)/test.Salário))*(100/len(test))"
   ]
  },
  {
   "cell_type": "markdown",
   "metadata": {},
   "source": [
    "#### Como não obtivemos um resultado positivo (nosso erro foi muito grande, tanto percentual quanto quadrático), testamos um terceiro modelo de regressão. Chamado de ElasticNet, esse modelo é uma junção da Ridge com a Lasso. Ele usa dos dois métodos de penalização para minimizar mais ainda o erro do modelo."
   ]
  },
  {
   "cell_type": "code",
   "execution_count": 15,
   "metadata": {
    "collapsed": true
   },
   "outputs": [],
   "source": [
    "parameters = {'alpha': 10**np.linspace(-2, 10, 20),\n",
    "              'l1_ratio': np.linspace(0.01, 1, 10)}"
   ]
  },
  {
   "cell_type": "code",
   "execution_count": 16,
   "metadata": {
    "collapsed": true
   },
   "outputs": [],
   "source": [
    "clf = GridSearchCV(ElasticNetImpl(normalize=True), parameters, cv=20, n_jobs=-1, scoring='neg_mean_absolute_error')"
   ]
  },
  {
   "cell_type": "code",
   "execution_count": 17,
   "metadata": {},
   "outputs": [
    {
     "data": {
      "text/plain": [
       "GridSearchCV(cv=20, error_score='raise',\n",
       "       estimator=ElasticNet(alpha=1.0, copy_X=True, fit_intercept=True, l1_ratio=0.5,\n",
       "      max_iter=1000, normalize=True, positive=False, precompute=False,\n",
       "      random_state=None, selection='cyclic', tol=0.0001, warm_start=False),\n",
       "       fit_params={}, iid=True, n_jobs=-1,\n",
       "       param_grid={'alpha': array([  1.00000e-02,   4.28133e-02,   1.83298e-01,   7.84760e-01,\n",
       "         3.35982e+00,   1.43845e+01,   6.15848e+01,   2.63665e+02,\n",
       "         1.12884e+03,   4.83293e+03,   2.06914e+04,   8.85867e+04,\n",
       "         3.79269e+05,   1.62378e+06,   6.95193e+06,   2.97635e+07,\n",
       "         1.27427e+08,   5.45559e+08,   2.33572e+09,   1.00000e+10]), 'l1_ratio': array([ 0.01,  0.12,  0.23,  0.34,  0.45,  0.56,  0.67,  0.78,  0.89,  1.  ])},\n",
       "       pre_dispatch='2*n_jobs', refit=True, return_train_score=True,\n",
       "       scoring='neg_mean_absolute_error', verbose=0)"
      ]
     },
     "execution_count": 17,
     "metadata": {},
     "output_type": "execute_result"
    }
   ],
   "source": [
    "clf.fit(train[atributos],train['Salário'])"
   ]
  },
  {
   "cell_type": "code",
   "execution_count": 18,
   "metadata": {},
   "outputs": [
    {
     "data": {
      "text/plain": [
       "array([-11754.4373188 , -11728.26432195, -11695.12366829, -11651.67517808,\n",
       "       -11592.15323687, -11505.85894843, -11369.23335418, -11120.59423061,\n",
       "       -10518.28838276,  -8377.35743372, -11923.20758402, -11916.54319251,\n",
       "       -11908.00032031, -11896.6567989 , -11880.84876061, -11857.34971085,\n",
       "       -11818.7400325 , -11743.81080535, -11534.02858421,  -8373.89848423,\n",
       "       -11964.41833948, -11962.84219331, -11960.81692334, -11958.11866728,\n",
       "       -11954.3451416 , -11948.69365419, -11939.29789272, -11920.5934882 ,\n",
       "       -11865.26010122,  -8361.58784783, -11974.12517712, -11973.75888833,\n",
       "       -11973.28801103, -11972.66028911, -11971.78169814, -11970.46429207,\n",
       "       -11968.26989517, -11963.88589364, -11950.7720801 ,  -8341.41973641,\n",
       "       -11976.39689716, -11976.31438331, -11976.20829749, -11976.06685573,\n",
       "       -11975.86884875, -11975.57186344, -11975.07695497, -11974.0873894 ,\n",
       "       -11971.12070182,  -8270.4563922 , -11976.92775231, -11976.91158533,\n",
       "       -11976.89079937, -11976.86308501, -11976.82428542, -11976.76608714,\n",
       "       -11976.66909297, -11976.47511574, -11975.89327291,  -8043.50228938,\n",
       "       -11977.05175865, -11977.05109199, -11977.05023487, -11977.04909203,\n",
       "       -11977.04733647, -11977.04408446, -11977.03793479, -11977.02381543,\n",
       "       -11976.97602123,  -8577.20720927, -11977.0807238 , -11977.08361143,\n",
       "       -11977.08595445, -11977.08764062, -11977.08922349, -11977.08922651,\n",
       "       -11977.08922651, -11977.08922651, -11977.08922651, -11977.08922651,\n",
       "       -11977.08748929, -11977.08922651, -11977.08922651, -11977.08922651,\n",
       "       -11977.08922651, -11977.08922651, -11977.08922651, -11977.08922651,\n",
       "       -11977.08922651, -11977.08922651, -11977.08904238, -11977.08922651,\n",
       "       -11977.08922651, -11977.08922651, -11977.08922651, -11977.08922651,\n",
       "       -11977.08922651, -11977.08922651, -11977.08922651, -11977.08922651,\n",
       "       -11977.08922651, -11977.08922651, -11977.08922651, -11977.08922651,\n",
       "       -11977.08922651, -11977.08922651, -11977.08922651, -11977.08922651,\n",
       "       -11977.08922651, -11977.08922651, -11977.08922651, -11977.08922651,\n",
       "       -11977.08922651, -11977.08922651, -11977.08922651, -11977.08922651,\n",
       "       -11977.08922651, -11977.08922651, -11977.08922651, -11977.08922651,\n",
       "       -11977.08922651, -11977.08922651, -11977.08922651, -11977.08922651,\n",
       "       -11977.08922651, -11977.08922651, -11977.08922651, -11977.08922651,\n",
       "       -11977.08922651, -11977.08922651, -11977.08922651, -11977.08922651,\n",
       "       -11977.08922651, -11977.08922651, -11977.08922651, -11977.08922651,\n",
       "       -11977.08922651, -11977.08922651, -11977.08922651, -11977.08922651,\n",
       "       -11977.08922651, -11977.08922651, -11977.08922651, -11977.08922651,\n",
       "       -11977.08922651, -11977.08922651, -11977.08922651, -11977.08922651,\n",
       "       -11977.08922651, -11977.08922651, -11977.08922651, -11977.08922651,\n",
       "       -11977.08922651, -11977.08922651, -11977.08922651, -11977.08922651,\n",
       "       -11977.08922651, -11977.08922651, -11977.08922651, -11977.08922651,\n",
       "       -11977.08922651, -11977.08922651, -11977.08922651, -11977.08922651,\n",
       "       -11977.08922651, -11977.08922651, -11977.08922651, -11977.08922651,\n",
       "       -11977.08922651, -11977.08922651, -11977.08922651, -11977.08922651,\n",
       "       -11977.08922651, -11977.08922651, -11977.08922651, -11977.08922651,\n",
       "       -11977.08922651, -11977.08922651, -11977.08922651, -11977.08922651,\n",
       "       -11977.08922651, -11977.08922651, -11977.08922651, -11977.08922651,\n",
       "       -11977.08922651, -11977.08922651, -11977.08922651, -11977.08922651,\n",
       "       -11977.08922651, -11977.08922651, -11977.08922651, -11977.08922651,\n",
       "       -11977.08922651, -11977.08922651, -11977.08922651, -11977.08922651,\n",
       "       -11977.08922651, -11977.08922651, -11977.08922651, -11977.08922651])"
      ]
     },
     "execution_count": 18,
     "metadata": {},
     "output_type": "execute_result"
    }
   ],
   "source": [
    "clf.cv_results_['mean_test_score']"
   ]
  },
  {
   "cell_type": "code",
   "execution_count": 19,
   "metadata": {},
   "outputs": [
    {
     "data": {
      "text/plain": [
       "array([ 737.37687299,  736.77426674,  736.10199777,  735.28418518,\n",
       "        734.27303414,  732.57453688,  729.80532737,  724.99228751,\n",
       "        708.89375242,  491.52352434,  740.94867647,  740.83396608,\n",
       "        740.67961267,  740.47315888,  740.18674966,  739.7247045 ,\n",
       "        738.88216479,  737.12824783,  733.16454641,  491.13720153,\n",
       "        741.66466394,  741.63709068,  741.60168471,  741.55455597,\n",
       "        741.48872744,  741.39031525,  741.22717134,  740.90413548,\n",
       "        739.88472062,  489.67111709,  741.83495532,  741.82853639,\n",
       "        741.82028593,  741.80928962,  741.79390301,  741.77084111,\n",
       "        741.73245256,  741.65585479,  741.42748736,  485.26414325,\n",
       "        741.87490019,  741.87346722,  741.87162496,  741.86916883,\n",
       "        741.86573065,  741.86057431,  741.85198281,  741.83480891,\n",
       "        741.78335971,  490.42839323,  741.88423949,  741.88397357,\n",
       "        741.88363167,  741.88317582,  741.88253765,  741.88158042,\n",
       "        741.87998513,  741.87679488,  741.86722678,  500.30930499,\n",
       "        741.88642139,  741.8864282 ,  741.88643694,  741.88644861,\n",
       "        741.88647666,  741.88653699,  741.8866301 ,  741.88653754,\n",
       "        741.8864323 ,  630.00140495,  741.88693105,  741.88700569,\n",
       "        741.88707084,  741.88710343,  741.88708433,  741.88707918,\n",
       "        741.88707918,  741.88707918,  741.88707918,  741.88707918,\n",
       "        741.8870501 ,  741.88707918,  741.88707918,  741.88707918,\n",
       "        741.88707918,  741.88707918,  741.88707918,  741.88707918,\n",
       "        741.88707918,  741.88707918,  741.88707765,  741.88707918,\n",
       "        741.88707918,  741.88707918,  741.88707918,  741.88707918,\n",
       "        741.88707918,  741.88707918,  741.88707918,  741.88707918,\n",
       "        741.88707918,  741.88707918,  741.88707918,  741.88707918,\n",
       "        741.88707918,  741.88707918,  741.88707918,  741.88707918,\n",
       "        741.88707918,  741.88707918,  741.88707918,  741.88707918,\n",
       "        741.88707918,  741.88707918,  741.88707918,  741.88707918,\n",
       "        741.88707918,  741.88707918,  741.88707918,  741.88707918,\n",
       "        741.88707918,  741.88707918,  741.88707918,  741.88707918,\n",
       "        741.88707918,  741.88707918,  741.88707918,  741.88707918,\n",
       "        741.88707918,  741.88707918,  741.88707918,  741.88707918,\n",
       "        741.88707918,  741.88707918,  741.88707918,  741.88707918,\n",
       "        741.88707918,  741.88707918,  741.88707918,  741.88707918,\n",
       "        741.88707918,  741.88707918,  741.88707918,  741.88707918,\n",
       "        741.88707918,  741.88707918,  741.88707918,  741.88707918,\n",
       "        741.88707918,  741.88707918,  741.88707918,  741.88707918,\n",
       "        741.88707918,  741.88707918,  741.88707918,  741.88707918,\n",
       "        741.88707918,  741.88707918,  741.88707918,  741.88707918,\n",
       "        741.88707918,  741.88707918,  741.88707918,  741.88707918,\n",
       "        741.88707918,  741.88707918,  741.88707918,  741.88707918,\n",
       "        741.88707918,  741.88707918,  741.88707918,  741.88707918,\n",
       "        741.88707918,  741.88707918,  741.88707918,  741.88707918,\n",
       "        741.88707918,  741.88707918,  741.88707918,  741.88707918,\n",
       "        741.88707918,  741.88707918,  741.88707918,  741.88707918,\n",
       "        741.88707918,  741.88707918,  741.88707918,  741.88707918,\n",
       "        741.88707918,  741.88707918,  741.88707918,  741.88707918,\n",
       "        741.88707918,  741.88707918,  741.88707918,  741.88707918,\n",
       "        741.88707918,  741.88707918,  741.88707918,  741.88707918])"
      ]
     },
     "execution_count": 19,
     "metadata": {},
     "output_type": "execute_result"
    }
   ],
   "source": [
    "clf.cv_results_['std_test_score']"
   ]
  },
  {
   "cell_type": "code",
   "execution_count": 20,
   "metadata": {},
   "outputs": [
    {
     "data": {
      "text/plain": [
       "({'alpha': 0.01, 'l1_ratio': 0.01},\n",
       " {'alpha': 0.01, 'l1_ratio': 0.12},\n",
       " {'alpha': 0.01, 'l1_ratio': 0.23000000000000001},\n",
       " {'alpha': 0.01, 'l1_ratio': 0.34000000000000002},\n",
       " {'alpha': 0.01, 'l1_ratio': 0.45000000000000001},\n",
       " {'alpha': 0.01, 'l1_ratio': 0.56000000000000005},\n",
       " {'alpha': 0.01, 'l1_ratio': 0.67000000000000004},\n",
       " {'alpha': 0.01, 'l1_ratio': 0.78000000000000003},\n",
       " {'alpha': 0.01, 'l1_ratio': 0.89000000000000001},\n",
       " {'alpha': 0.01, 'l1_ratio': 1.0},\n",
       " {'alpha': 0.042813323987193938, 'l1_ratio': 0.01},\n",
       " {'alpha': 0.042813323987193938, 'l1_ratio': 0.12},\n",
       " {'alpha': 0.042813323987193938, 'l1_ratio': 0.23000000000000001},\n",
       " {'alpha': 0.042813323987193938, 'l1_ratio': 0.34000000000000002},\n",
       " {'alpha': 0.042813323987193938, 'l1_ratio': 0.45000000000000001},\n",
       " {'alpha': 0.042813323987193938, 'l1_ratio': 0.56000000000000005},\n",
       " {'alpha': 0.042813323987193938, 'l1_ratio': 0.67000000000000004},\n",
       " {'alpha': 0.042813323987193938, 'l1_ratio': 0.78000000000000003},\n",
       " {'alpha': 0.042813323987193938, 'l1_ratio': 0.89000000000000001},\n",
       " {'alpha': 0.042813323987193938, 'l1_ratio': 1.0},\n",
       " {'alpha': 0.18329807108324356, 'l1_ratio': 0.01},\n",
       " {'alpha': 0.18329807108324356, 'l1_ratio': 0.12},\n",
       " {'alpha': 0.18329807108324356, 'l1_ratio': 0.23000000000000001},\n",
       " {'alpha': 0.18329807108324356, 'l1_ratio': 0.34000000000000002},\n",
       " {'alpha': 0.18329807108324356, 'l1_ratio': 0.45000000000000001},\n",
       " {'alpha': 0.18329807108324356, 'l1_ratio': 0.56000000000000005},\n",
       " {'alpha': 0.18329807108324356, 'l1_ratio': 0.67000000000000004},\n",
       " {'alpha': 0.18329807108324356, 'l1_ratio': 0.78000000000000003},\n",
       " {'alpha': 0.18329807108324356, 'l1_ratio': 0.89000000000000001},\n",
       " {'alpha': 0.18329807108324356, 'l1_ratio': 1.0},\n",
       " {'alpha': 0.78475997035146106, 'l1_ratio': 0.01},\n",
       " {'alpha': 0.78475997035146106, 'l1_ratio': 0.12},\n",
       " {'alpha': 0.78475997035146106, 'l1_ratio': 0.23000000000000001},\n",
       " {'alpha': 0.78475997035146106, 'l1_ratio': 0.34000000000000002},\n",
       " {'alpha': 0.78475997035146106, 'l1_ratio': 0.45000000000000001},\n",
       " {'alpha': 0.78475997035146106, 'l1_ratio': 0.56000000000000005},\n",
       " {'alpha': 0.78475997035146106, 'l1_ratio': 0.67000000000000004},\n",
       " {'alpha': 0.78475997035146106, 'l1_ratio': 0.78000000000000003},\n",
       " {'alpha': 0.78475997035146106, 'l1_ratio': 0.89000000000000001},\n",
       " {'alpha': 0.78475997035146106, 'l1_ratio': 1.0},\n",
       " {'alpha': 3.3598182862837809, 'l1_ratio': 0.01},\n",
       " {'alpha': 3.3598182862837809, 'l1_ratio': 0.12},\n",
       " {'alpha': 3.3598182862837809, 'l1_ratio': 0.23000000000000001},\n",
       " {'alpha': 3.3598182862837809, 'l1_ratio': 0.34000000000000002},\n",
       " {'alpha': 3.3598182862837809, 'l1_ratio': 0.45000000000000001},\n",
       " {'alpha': 3.3598182862837809, 'l1_ratio': 0.56000000000000005},\n",
       " {'alpha': 3.3598182862837809, 'l1_ratio': 0.67000000000000004},\n",
       " {'alpha': 3.3598182862837809, 'l1_ratio': 0.78000000000000003},\n",
       " {'alpha': 3.3598182862837809, 'l1_ratio': 0.89000000000000001},\n",
       " {'alpha': 3.3598182862837809, 'l1_ratio': 1.0},\n",
       " {'alpha': 14.384498882876629, 'l1_ratio': 0.01},\n",
       " {'alpha': 14.384498882876629, 'l1_ratio': 0.12},\n",
       " {'alpha': 14.384498882876629, 'l1_ratio': 0.23000000000000001},\n",
       " {'alpha': 14.384498882876629, 'l1_ratio': 0.34000000000000002},\n",
       " {'alpha': 14.384498882876629, 'l1_ratio': 0.45000000000000001},\n",
       " {'alpha': 14.384498882876629, 'l1_ratio': 0.56000000000000005},\n",
       " {'alpha': 14.384498882876629, 'l1_ratio': 0.67000000000000004},\n",
       " {'alpha': 14.384498882876629, 'l1_ratio': 0.78000000000000003},\n",
       " {'alpha': 14.384498882876629, 'l1_ratio': 0.89000000000000001},\n",
       " {'alpha': 14.384498882876629, 'l1_ratio': 1.0},\n",
       " {'alpha': 61.584821106602604, 'l1_ratio': 0.01},\n",
       " {'alpha': 61.584821106602604, 'l1_ratio': 0.12},\n",
       " {'alpha': 61.584821106602604, 'l1_ratio': 0.23000000000000001},\n",
       " {'alpha': 61.584821106602604, 'l1_ratio': 0.34000000000000002},\n",
       " {'alpha': 61.584821106602604, 'l1_ratio': 0.45000000000000001},\n",
       " {'alpha': 61.584821106602604, 'l1_ratio': 0.56000000000000005},\n",
       " {'alpha': 61.584821106602604, 'l1_ratio': 0.67000000000000004},\n",
       " {'alpha': 61.584821106602604, 'l1_ratio': 0.78000000000000003},\n",
       " {'alpha': 61.584821106602604, 'l1_ratio': 0.89000000000000001},\n",
       " {'alpha': 61.584821106602604, 'l1_ratio': 1.0},\n",
       " {'alpha': 263.66508987303553, 'l1_ratio': 0.01},\n",
       " {'alpha': 263.66508987303553, 'l1_ratio': 0.12},\n",
       " {'alpha': 263.66508987303553, 'l1_ratio': 0.23000000000000001},\n",
       " {'alpha': 263.66508987303553, 'l1_ratio': 0.34000000000000002},\n",
       " {'alpha': 263.66508987303553, 'l1_ratio': 0.45000000000000001},\n",
       " {'alpha': 263.66508987303553, 'l1_ratio': 0.56000000000000005},\n",
       " {'alpha': 263.66508987303553, 'l1_ratio': 0.67000000000000004},\n",
       " {'alpha': 263.66508987303553, 'l1_ratio': 0.78000000000000003},\n",
       " {'alpha': 263.66508987303553, 'l1_ratio': 0.89000000000000001},\n",
       " {'alpha': 263.66508987303553, 'l1_ratio': 1.0},\n",
       " {'alpha': 1128.8378916846884, 'l1_ratio': 0.01},\n",
       " {'alpha': 1128.8378916846884, 'l1_ratio': 0.12},\n",
       " {'alpha': 1128.8378916846884, 'l1_ratio': 0.23000000000000001},\n",
       " {'alpha': 1128.8378916846884, 'l1_ratio': 0.34000000000000002},\n",
       " {'alpha': 1128.8378916846884, 'l1_ratio': 0.45000000000000001},\n",
       " {'alpha': 1128.8378916846884, 'l1_ratio': 0.56000000000000005},\n",
       " {'alpha': 1128.8378916846884, 'l1_ratio': 0.67000000000000004},\n",
       " {'alpha': 1128.8378916846884, 'l1_ratio': 0.78000000000000003},\n",
       " {'alpha': 1128.8378916846884, 'l1_ratio': 0.89000000000000001},\n",
       " {'alpha': 1128.8378916846884, 'l1_ratio': 1.0},\n",
       " {'alpha': 4832.9302385717519, 'l1_ratio': 0.01},\n",
       " {'alpha': 4832.9302385717519, 'l1_ratio': 0.12},\n",
       " {'alpha': 4832.9302385717519, 'l1_ratio': 0.23000000000000001},\n",
       " {'alpha': 4832.9302385717519, 'l1_ratio': 0.34000000000000002},\n",
       " {'alpha': 4832.9302385717519, 'l1_ratio': 0.45000000000000001},\n",
       " {'alpha': 4832.9302385717519, 'l1_ratio': 0.56000000000000005},\n",
       " {'alpha': 4832.9302385717519, 'l1_ratio': 0.67000000000000004},\n",
       " {'alpha': 4832.9302385717519, 'l1_ratio': 0.78000000000000003},\n",
       " {'alpha': 4832.9302385717519, 'l1_ratio': 0.89000000000000001},\n",
       " {'alpha': 4832.9302385717519, 'l1_ratio': 1.0},\n",
       " {'alpha': 20691.380811147901, 'l1_ratio': 0.01},\n",
       " {'alpha': 20691.380811147901, 'l1_ratio': 0.12},\n",
       " {'alpha': 20691.380811147901, 'l1_ratio': 0.23000000000000001},\n",
       " {'alpha': 20691.380811147901, 'l1_ratio': 0.34000000000000002},\n",
       " {'alpha': 20691.380811147901, 'l1_ratio': 0.45000000000000001},\n",
       " {'alpha': 20691.380811147901, 'l1_ratio': 0.56000000000000005},\n",
       " {'alpha': 20691.380811147901, 'l1_ratio': 0.67000000000000004},\n",
       " {'alpha': 20691.380811147901, 'l1_ratio': 0.78000000000000003},\n",
       " {'alpha': 20691.380811147901, 'l1_ratio': 0.89000000000000001},\n",
       " {'alpha': 20691.380811147901, 'l1_ratio': 1.0},\n",
       " {'alpha': 88586.679041008145, 'l1_ratio': 0.01},\n",
       " {'alpha': 88586.679041008145, 'l1_ratio': 0.12},\n",
       " {'alpha': 88586.679041008145, 'l1_ratio': 0.23000000000000001},\n",
       " {'alpha': 88586.679041008145, 'l1_ratio': 0.34000000000000002},\n",
       " {'alpha': 88586.679041008145, 'l1_ratio': 0.45000000000000001},\n",
       " {'alpha': 88586.679041008145, 'l1_ratio': 0.56000000000000005},\n",
       " {'alpha': 88586.679041008145, 'l1_ratio': 0.67000000000000004},\n",
       " {'alpha': 88586.679041008145, 'l1_ratio': 0.78000000000000003},\n",
       " {'alpha': 88586.679041008145, 'l1_ratio': 0.89000000000000001},\n",
       " {'alpha': 88586.679041008145, 'l1_ratio': 1.0},\n",
       " {'alpha': 379269.01907322463, 'l1_ratio': 0.01},\n",
       " {'alpha': 379269.01907322463, 'l1_ratio': 0.12},\n",
       " {'alpha': 379269.01907322463, 'l1_ratio': 0.23000000000000001},\n",
       " {'alpha': 379269.01907322463, 'l1_ratio': 0.34000000000000002},\n",
       " {'alpha': 379269.01907322463, 'l1_ratio': 0.45000000000000001},\n",
       " {'alpha': 379269.01907322463, 'l1_ratio': 0.56000000000000005},\n",
       " {'alpha': 379269.01907322463, 'l1_ratio': 0.67000000000000004},\n",
       " {'alpha': 379269.01907322463, 'l1_ratio': 0.78000000000000003},\n",
       " {'alpha': 379269.01907322463, 'l1_ratio': 0.89000000000000001},\n",
       " {'alpha': 379269.01907322463, 'l1_ratio': 1.0},\n",
       " {'alpha': 1623776.7391887177, 'l1_ratio': 0.01},\n",
       " {'alpha': 1623776.7391887177, 'l1_ratio': 0.12},\n",
       " {'alpha': 1623776.7391887177, 'l1_ratio': 0.23000000000000001},\n",
       " {'alpha': 1623776.7391887177, 'l1_ratio': 0.34000000000000002},\n",
       " {'alpha': 1623776.7391887177, 'l1_ratio': 0.45000000000000001},\n",
       " {'alpha': 1623776.7391887177, 'l1_ratio': 0.56000000000000005},\n",
       " {'alpha': 1623776.7391887177, 'l1_ratio': 0.67000000000000004},\n",
       " {'alpha': 1623776.7391887177, 'l1_ratio': 0.78000000000000003},\n",
       " {'alpha': 1623776.7391887177, 'l1_ratio': 0.89000000000000001},\n",
       " {'alpha': 1623776.7391887177, 'l1_ratio': 1.0},\n",
       " {'alpha': 6951927.9617755907, 'l1_ratio': 0.01},\n",
       " {'alpha': 6951927.9617755907, 'l1_ratio': 0.12},\n",
       " {'alpha': 6951927.9617755907, 'l1_ratio': 0.23000000000000001},\n",
       " {'alpha': 6951927.9617755907, 'l1_ratio': 0.34000000000000002},\n",
       " {'alpha': 6951927.9617755907, 'l1_ratio': 0.45000000000000001},\n",
       " {'alpha': 6951927.9617755907, 'l1_ratio': 0.56000000000000005},\n",
       " {'alpha': 6951927.9617755907, 'l1_ratio': 0.67000000000000004},\n",
       " {'alpha': 6951927.9617755907, 'l1_ratio': 0.78000000000000003},\n",
       " {'alpha': 6951927.9617755907, 'l1_ratio': 0.89000000000000001},\n",
       " {'alpha': 6951927.9617755907, 'l1_ratio': 1.0},\n",
       " {'alpha': 29763514.41631313, 'l1_ratio': 0.01},\n",
       " {'alpha': 29763514.41631313, 'l1_ratio': 0.12},\n",
       " {'alpha': 29763514.41631313, 'l1_ratio': 0.23000000000000001},\n",
       " {'alpha': 29763514.41631313, 'l1_ratio': 0.34000000000000002},\n",
       " {'alpha': 29763514.41631313, 'l1_ratio': 0.45000000000000001},\n",
       " {'alpha': 29763514.41631313, 'l1_ratio': 0.56000000000000005},\n",
       " {'alpha': 29763514.41631313, 'l1_ratio': 0.67000000000000004},\n",
       " {'alpha': 29763514.41631313, 'l1_ratio': 0.78000000000000003},\n",
       " {'alpha': 29763514.41631313, 'l1_ratio': 0.89000000000000001},\n",
       " {'alpha': 29763514.41631313, 'l1_ratio': 1.0},\n",
       " {'alpha': 127427498.57031322, 'l1_ratio': 0.01},\n",
       " {'alpha': 127427498.57031322, 'l1_ratio': 0.12},\n",
       " {'alpha': 127427498.57031322, 'l1_ratio': 0.23000000000000001},\n",
       " {'alpha': 127427498.57031322, 'l1_ratio': 0.34000000000000002},\n",
       " {'alpha': 127427498.57031322, 'l1_ratio': 0.45000000000000001},\n",
       " {'alpha': 127427498.57031322, 'l1_ratio': 0.56000000000000005},\n",
       " {'alpha': 127427498.57031322, 'l1_ratio': 0.67000000000000004},\n",
       " {'alpha': 127427498.57031322, 'l1_ratio': 0.78000000000000003},\n",
       " {'alpha': 127427498.57031322, 'l1_ratio': 0.89000000000000001},\n",
       " {'alpha': 127427498.57031322, 'l1_ratio': 1.0},\n",
       " {'alpha': 545559478.11685145, 'l1_ratio': 0.01},\n",
       " {'alpha': 545559478.11685145, 'l1_ratio': 0.12},\n",
       " {'alpha': 545559478.11685145, 'l1_ratio': 0.23000000000000001},\n",
       " {'alpha': 545559478.11685145, 'l1_ratio': 0.34000000000000002},\n",
       " {'alpha': 545559478.11685145, 'l1_ratio': 0.45000000000000001},\n",
       " {'alpha': 545559478.11685145, 'l1_ratio': 0.56000000000000005},\n",
       " {'alpha': 545559478.11685145, 'l1_ratio': 0.67000000000000004},\n",
       " {'alpha': 545559478.11685145, 'l1_ratio': 0.78000000000000003},\n",
       " {'alpha': 545559478.11685145, 'l1_ratio': 0.89000000000000001},\n",
       " {'alpha': 545559478.11685145, 'l1_ratio': 1.0},\n",
       " {'alpha': 2335721469.0901213, 'l1_ratio': 0.01},\n",
       " {'alpha': 2335721469.0901213, 'l1_ratio': 0.12},\n",
       " {'alpha': 2335721469.0901213, 'l1_ratio': 0.23000000000000001},\n",
       " {'alpha': 2335721469.0901213, 'l1_ratio': 0.34000000000000002},\n",
       " {'alpha': 2335721469.0901213, 'l1_ratio': 0.45000000000000001},\n",
       " {'alpha': 2335721469.0901213, 'l1_ratio': 0.56000000000000005},\n",
       " {'alpha': 2335721469.0901213, 'l1_ratio': 0.67000000000000004},\n",
       " {'alpha': 2335721469.0901213, 'l1_ratio': 0.78000000000000003},\n",
       " {'alpha': 2335721469.0901213, 'l1_ratio': 0.89000000000000001},\n",
       " {'alpha': 2335721469.0901213, 'l1_ratio': 1.0},\n",
       " {'alpha': 10000000000.0, 'l1_ratio': 0.01},\n",
       " {'alpha': 10000000000.0, 'l1_ratio': 0.12},\n",
       " {'alpha': 10000000000.0, 'l1_ratio': 0.23000000000000001},\n",
       " {'alpha': 10000000000.0, 'l1_ratio': 0.34000000000000002},\n",
       " {'alpha': 10000000000.0, 'l1_ratio': 0.45000000000000001},\n",
       " {'alpha': 10000000000.0, 'l1_ratio': 0.56000000000000005},\n",
       " {'alpha': 10000000000.0, 'l1_ratio': 0.67000000000000004},\n",
       " {'alpha': 10000000000.0, 'l1_ratio': 0.78000000000000003},\n",
       " {'alpha': 10000000000.0, 'l1_ratio': 0.89000000000000001},\n",
       " {'alpha': 10000000000.0, 'l1_ratio': 1.0})"
      ]
     },
     "execution_count": 20,
     "metadata": {},
     "output_type": "execute_result"
    }
   ],
   "source": [
    "clf.cv_results_['params']"
   ]
  },
  {
   "cell_type": "code",
   "execution_count": 51,
   "metadata": {
    "collapsed": true
   },
   "outputs": [],
   "source": [
    "modelo_good = clf.best_estimator_"
   ]
  },
  {
   "cell_type": "markdown",
   "metadata": {},
   "source": [
    "#### Acima foram testados diferentes alphas e parâmetros da função (através do treinamento) para que ela estimasse o melhor a ser utilizado no teste. "
   ]
  },
  {
   "cell_type": "code",
   "execution_count": 52,
   "metadata": {
    "collapsed": true
   },
   "outputs": [],
   "source": [
    "y_pred = modelo_good.predict(test[atributos])"
   ]
  },
  {
   "cell_type": "code",
   "execution_count": 23,
   "metadata": {},
   "outputs": [
    {
     "data": {
      "text/plain": [
       "array([  7410.38261157,   4800.2834375 ,  12268.86685393, ...,\n",
       "         5732.12819489,  21638.27820675,  15085.84478652])"
      ]
     },
     "execution_count": 23,
     "metadata": {},
     "output_type": "execute_result"
    }
   ],
   "source": [
    "y_pred"
   ]
  },
  {
   "cell_type": "markdown",
   "metadata": {},
   "source": [
    "#### O resultado dos salários previstos nos testes pode ser observado acima. Abaixo, foi calculado o erro quadrádico (como feito anteriormente com a Ridge e com a Lasso). Pudemos observar que o erro foi até um pouco maior do que nos dois modelos anteriores: 18738 euros. Foi calculada também a média de erro absoluta; 8310 euros. E por último (também como feito anteriormente) foi calculado o erro percentual, que diminuiu de 223% para 203% um número ainda bastante alto."
   ]
  },
  {
   "cell_type": "code",
   "execution_count": 24,
   "metadata": {},
   "outputs": [
    {
     "data": {
      "text/plain": [
       "18738.292868764005"
      ]
     },
     "execution_count": 24,
     "metadata": {},
     "output_type": "execute_result"
    }
   ],
   "source": [
    "np.sqrt(mean_squared_error(test.Salário, y_pred))"
   ]
  },
  {
   "cell_type": "code",
   "execution_count": 25,
   "metadata": {},
   "outputs": [
    {
     "data": {
      "text/plain": [
       "8310.0754901916152"
      ]
     },
     "execution_count": 25,
     "metadata": {},
     "output_type": "execute_result"
    }
   ],
   "source": [
    "mean_absolute_error(test.Salário, y_pred)"
   ]
  },
  {
   "cell_type": "code",
   "execution_count": 26,
   "metadata": {},
   "outputs": [
    {
     "data": {
      "text/plain": [
       "203.0889736338971"
      ]
     },
     "execution_count": 26,
     "metadata": {},
     "output_type": "execute_result"
    }
   ],
   "source": [
    "np.sum(abs((test.Salário - y_pred)/test.Salário))*(100/len(test))"
   ]
  },
  {
   "cell_type": "markdown",
   "metadata": {
    "collapsed": true
   },
   "source": [
    "#### Ao analisar o programa, percebemos que o erro foi bastante alto, o que causa uma falha no \"sistema\". Concluímos que o programa acima não pode ser usado para estimar o salário de um jogador, pelo menos não com as variáveis que julgamos importante. Provavelmente esse erro se deve ao fato de que os jogadores de diferentes posições possuem características diferentes. Por exemplo, um goleiro provavelmente não possui um nível de \"cabeceio\" tão alto, pois não utiliza muito dessa habilidade no seu trabalho. Assim como um zagueiro não precisa ser muito bom em \"finalização\" como um atacante deveria. E mesmo assim, esses jogadores podem ter salários altos, pois são ótimos em suas posições. Por outro lado, um bom meio-campista tem boas qualidades tanto de atacante como de zagueiro, pois atua nos dois lados do campo, mas pode ter um salário baixo pois não necessariamente se destaca em campo. Assim, o programa pode ter estimado valores de parâmetros altos/baixos para cada uma das habilidades, mas não levava em conta a posição do jogador ou o que ele realmente necessitava no seu trabalho e consequentemente o valor do seu salário. Por essas e outras razões como imperfeições da base de dados ou de cálculo de previsão, o nosso programa não modela com perfeição o nosso problema."
   ]
  },
  {
   "cell_type": "markdown",
   "metadata": {},
   "source": [
    "###### ***O projeto foi feito majoritarimente em sala de aula, com a presença dos três alunos em um único computador. As conclusões e melhorias foram feitas por partes em casa, divididas entre os alunos, e discutidas em grupo de whatsapp. Todos contribuíram da mesma forma no projeto porém não nos uploads dos arquivos."
   ]
  },
  {
   "cell_type": "code",
   "execution_count": null,
   "metadata": {
    "collapsed": true
   },
   "outputs": [],
   "source": []
  }
 ],
 "metadata": {
  "kernelspec": {
   "display_name": "Python 3",
   "language": "python",
   "name": "python3"
  },
  "language_info": {
   "codemirror_mode": {
    "name": "ipython",
    "version": 3
   },
   "file_extension": ".py",
   "mimetype": "text/x-python",
   "name": "python",
   "nbconvert_exporter": "python",
   "pygments_lexer": "ipython3",
   "version": "3.6.0"
  }
 },
 "nbformat": 4,
 "nbformat_minor": 2
}
